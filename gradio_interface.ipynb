{
 "cells": [
  {
   "cell_type": "code",
   "execution_count": 6,
   "metadata": {},
   "outputs": [],
   "source": [
    "from clip2textgen.model import *"
   ]
  },
  {
   "cell_type": "code",
   "execution_count": 7,
   "metadata": {},
   "outputs": [],
   "source": [
    "\n",
    "import gradio as gr\n"
   ]
  },
  {
   "cell_type": "code",
   "execution_count": 8,
   "metadata": {},
   "outputs": [
    {
     "name": "stderr",
     "output_type": "stream",
     "text": [
      "/home/dima/anaconda3/envs/clip_prefix_caption/lib/python3.9/site-packages/gradio/deprecation.py:40: UserWarning: `optional` parameter is deprecated, and it has no effect\n",
      "  warnings.warn(value)\n",
      "/home/dima/anaconda3/envs/clip_prefix_caption/lib/python3.9/site-packages/gradio/deprecation.py:40: UserWarning: The 'type' parameter has been deprecated. Use the Number component instead.\n",
      "  warnings.warn(value)\n",
      "/home/dima/anaconda3/envs/clip_prefix_caption/lib/python3.9/site-packages/gradio/deprecation.py:40: UserWarning: `enable_queue` is deprecated in `Interface()`, please use it within `launch()` instead.\n",
      "  warnings.warn(value)\n"
     ]
    },
    {
     "name": "stdout",
     "output_type": "stream",
     "text": [
      "Running on local URL:  http://127.0.0.1:7860/\n",
      "\n",
      "To create a public link, set `share=True` in `launch()`.\n"
     ]
    },
    {
     "data": {
      "text/html": [
       "\n",
       "        <iframe\n",
       "            width=\"900\"\n",
       "            height=\"500\"\n",
       "            src=\"http://127.0.0.1:7860/\"\n",
       "            frameborder=\"0\"\n",
       "            allowfullscreen\n",
       "            \n",
       "        ></iframe>\n",
       "        "
      ],
      "text/plain": [
       "<IPython.lib.display.IFrame at 0x7f6e7a76faf0>"
      ]
     },
     "metadata": {},
     "output_type": "display_data"
    },
    {
     "name": "stderr",
     "output_type": "stream",
     "text": [
      "ERROR:    Exception in ASGI application\n",
      "Traceback (most recent call last):\n",
      "  File \"/home/dima/anaconda3/envs/clip_prefix_caption/lib/python3.9/site-packages/starlette/responses.py\", line 318, in __call__\n",
      "    stat_result = await anyio.to_thread.run_sync(os.stat, self.path)\n",
      "  File \"/home/dima/anaconda3/envs/clip_prefix_caption/lib/python3.9/site-packages/anyio/to_thread.py\", line 31, in run_sync\n",
      "    return await get_asynclib().run_sync_in_worker_thread(\n",
      "  File \"/home/dima/anaconda3/envs/clip_prefix_caption/lib/python3.9/site-packages/anyio/_backends/_asyncio.py\", line 937, in run_sync_in_worker_thread\n",
      "    return await future\n",
      "  File \"/home/dima/anaconda3/envs/clip_prefix_caption/lib/python3.9/site-packages/anyio/_backends/_asyncio.py\", line 867, in run\n",
      "    result = context.run(func, *args)\n",
      "FileNotFoundError: [Errno 2] No such file or directory: '/home/dima/CLIP_prefix_caption/water.jpeg'\n",
      "\n",
      "During handling of the above exception, another exception occurred:\n",
      "\n",
      "Traceback (most recent call last):\n",
      "  File \"/home/dima/anaconda3/envs/clip_prefix_caption/lib/python3.9/site-packages/uvicorn/protocols/http/h11_impl.py\", line 366, in run_asgi\n",
      "    result = await app(self.scope, self.receive, self.send)\n",
      "  File \"/home/dima/anaconda3/envs/clip_prefix_caption/lib/python3.9/site-packages/uvicorn/middleware/proxy_headers.py\", line 75, in __call__\n",
      "    return await self.app(scope, receive, send)\n",
      "  File \"/home/dima/anaconda3/envs/clip_prefix_caption/lib/python3.9/site-packages/fastapi/applications.py\", line 269, in __call__\n",
      "    await super().__call__(scope, receive, send)\n",
      "  File \"/home/dima/anaconda3/envs/clip_prefix_caption/lib/python3.9/site-packages/starlette/applications.py\", line 124, in __call__\n",
      "    await self.middleware_stack(scope, receive, send)\n",
      "  File \"/home/dima/anaconda3/envs/clip_prefix_caption/lib/python3.9/site-packages/starlette/middleware/errors.py\", line 184, in __call__\n",
      "    raise exc\n",
      "  File \"/home/dima/anaconda3/envs/clip_prefix_caption/lib/python3.9/site-packages/starlette/middleware/errors.py\", line 162, in __call__\n",
      "    await self.app(scope, receive, _send)\n",
      "  File \"/home/dima/anaconda3/envs/clip_prefix_caption/lib/python3.9/site-packages/starlette/middleware/cors.py\", line 84, in __call__\n",
      "    await self.app(scope, receive, send)\n",
      "  File \"/home/dima/anaconda3/envs/clip_prefix_caption/lib/python3.9/site-packages/starlette/exceptions.py\", line 93, in __call__\n",
      "    raise exc\n",
      "  File \"/home/dima/anaconda3/envs/clip_prefix_caption/lib/python3.9/site-packages/starlette/exceptions.py\", line 82, in __call__\n",
      "    await self.app(scope, receive, sender)\n",
      "  File \"/home/dima/anaconda3/envs/clip_prefix_caption/lib/python3.9/site-packages/fastapi/middleware/asyncexitstack.py\", line 21, in __call__\n",
      "    raise e\n",
      "  File \"/home/dima/anaconda3/envs/clip_prefix_caption/lib/python3.9/site-packages/fastapi/middleware/asyncexitstack.py\", line 18, in __call__\n",
      "    await self.app(scope, receive, send)\n",
      "  File \"/home/dima/anaconda3/envs/clip_prefix_caption/lib/python3.9/site-packages/starlette/routing.py\", line 670, in __call__\n",
      "    await route.handle(scope, receive, send)\n",
      "  File \"/home/dima/anaconda3/envs/clip_prefix_caption/lib/python3.9/site-packages/starlette/routing.py\", line 266, in handle\n",
      "    await self.app(scope, receive, send)\n",
      "  File \"/home/dima/anaconda3/envs/clip_prefix_caption/lib/python3.9/site-packages/starlette/routing.py\", line 68, in app\n",
      "    await response(scope, receive, send)\n",
      "  File \"/home/dima/anaconda3/envs/clip_prefix_caption/lib/python3.9/site-packages/starlette/responses.py\", line 321, in __call__\n",
      "    raise RuntimeError(f\"File at path {self.path} does not exist.\")\n",
      "RuntimeError: File at path /home/dima/CLIP_prefix_caption/water.jpeg does not exist.\n",
      "ERROR:    Exception in ASGI application\n",
      "Traceback (most recent call last):\n",
      "  File \"/home/dima/anaconda3/envs/clip_prefix_caption/lib/python3.9/site-packages/starlette/responses.py\", line 318, in __call__\n",
      "    stat_result = await anyio.to_thread.run_sync(os.stat, self.path)\n",
      "  File \"/home/dima/anaconda3/envs/clip_prefix_caption/lib/python3.9/site-packages/anyio/to_thread.py\", line 31, in run_sync\n",
      "    return await get_asynclib().run_sync_in_worker_thread(\n",
      "  File \"/home/dima/anaconda3/envs/clip_prefix_caption/lib/python3.9/site-packages/anyio/_backends/_asyncio.py\", line 937, in run_sync_in_worker_thread\n",
      "    return await future\n",
      "  File \"/home/dima/anaconda3/envs/clip_prefix_caption/lib/python3.9/site-packages/anyio/_backends/_asyncio.py\", line 867, in run\n",
      "    result = context.run(func, *args)\n",
      "FileNotFoundError: [Errno 2] No such file or directory: '/home/dima/CLIP_prefix_caption/water.jpeg'\n",
      "\n",
      "During handling of the above exception, another exception occurred:\n",
      "\n",
      "Traceback (most recent call last):\n",
      "  File \"/home/dima/anaconda3/envs/clip_prefix_caption/lib/python3.9/site-packages/uvicorn/protocols/http/h11_impl.py\", line 366, in run_asgi\n",
      "    result = await app(self.scope, self.receive, self.send)\n",
      "  File \"/home/dima/anaconda3/envs/clip_prefix_caption/lib/python3.9/site-packages/uvicorn/middleware/proxy_headers.py\", line 75, in __call__\n",
      "    return await self.app(scope, receive, send)\n",
      "  File \"/home/dima/anaconda3/envs/clip_prefix_caption/lib/python3.9/site-packages/fastapi/applications.py\", line 269, in __call__\n",
      "    await super().__call__(scope, receive, send)\n",
      "  File \"/home/dima/anaconda3/envs/clip_prefix_caption/lib/python3.9/site-packages/starlette/applications.py\", line 124, in __call__\n",
      "    await self.middleware_stack(scope, receive, send)\n",
      "  File \"/home/dima/anaconda3/envs/clip_prefix_caption/lib/python3.9/site-packages/starlette/middleware/errors.py\", line 184, in __call__\n",
      "    raise exc\n",
      "  File \"/home/dima/anaconda3/envs/clip_prefix_caption/lib/python3.9/site-packages/starlette/middleware/errors.py\", line 162, in __call__\n",
      "    await self.app(scope, receive, _send)\n",
      "  File \"/home/dima/anaconda3/envs/clip_prefix_caption/lib/python3.9/site-packages/starlette/middleware/cors.py\", line 84, in __call__\n",
      "    await self.app(scope, receive, send)\n",
      "  File \"/home/dima/anaconda3/envs/clip_prefix_caption/lib/python3.9/site-packages/starlette/exceptions.py\", line 93, in __call__\n",
      "    raise exc\n",
      "  File \"/home/dima/anaconda3/envs/clip_prefix_caption/lib/python3.9/site-packages/starlette/exceptions.py\", line 82, in __call__\n",
      "    await self.app(scope, receive, sender)\n",
      "  File \"/home/dima/anaconda3/envs/clip_prefix_caption/lib/python3.9/site-packages/fastapi/middleware/asyncexitstack.py\", line 21, in __call__\n",
      "    raise e\n",
      "  File \"/home/dima/anaconda3/envs/clip_prefix_caption/lib/python3.9/site-packages/fastapi/middleware/asyncexitstack.py\", line 18, in __call__\n",
      "    await self.app(scope, receive, send)\n",
      "  File \"/home/dima/anaconda3/envs/clip_prefix_caption/lib/python3.9/site-packages/starlette/routing.py\", line 670, in __call__\n",
      "    await route.handle(scope, receive, send)\n",
      "  File \"/home/dima/anaconda3/envs/clip_prefix_caption/lib/python3.9/site-packages/starlette/routing.py\", line 266, in handle\n",
      "    await self.app(scope, receive, send)\n",
      "  File \"/home/dima/anaconda3/envs/clip_prefix_caption/lib/python3.9/site-packages/starlette/routing.py\", line 68, in app\n",
      "    await response(scope, receive, send)\n",
      "  File \"/home/dima/anaconda3/envs/clip_prefix_caption/lib/python3.9/site-packages/starlette/responses.py\", line 321, in __call__\n",
      "    raise RuntimeError(f\"File at path {self.path} does not exist.\")\n",
      "RuntimeError: File at path /home/dima/CLIP_prefix_caption/water.jpeg does not exist.\n",
      "100%|██████████| 1/1 [00:00<00:00,  1.37it/s]\n",
      "100%|██████████| 1/1 [00:00<00:00,  1.41it/s]\n"
     ]
    },
    {
     "name": "stdout",
     "output_type": "stream",
     "text": [
      "Keyboard interruption in main thread... closing server.\n"
     ]
    },
    {
     "data": {
      "text/plain": [
       "(<gradio.routes.App at 0x7f6e9ad29fa0>, 'http://127.0.0.1:7860/', None)"
      ]
     },
     "execution_count": 8,
     "metadata": {},
     "output_type": "execute_result"
    }
   ],
   "source": [
    "title = \"CLIP prefix captioning\"\n",
    "description = \"Gradio demo for CLIP prefix captioning: a simple image captioning model. To use it, simply upload your image, or click one of the examples to load them. Read more at the links below.\"\n",
    "article = \"<p style='text-align: center'><a href='https://github.com/rmokady/CLIP_prefix_caption' target='_blank'>Github Repo</a></p>\"\n",
    "\n",
    "examples=[['water.jpeg',\"COCO\"]]\n",
    "\n",
    "\n",
    "gr.Interface(\n",
    "    inference, \n",
    "    [gr.inputs.Image(type=\"file\", label=\"Input\"),gr.inputs.Radio(choices=[\"COCO\",\"Conceptual captions\"], type=\"value\", default=\"COCO\", label=\"Model\")], \n",
    "    gr.outputs.Textbox(label=\"Output\"),\n",
    "    title=title,\n",
    "    description=description,\n",
    "    article=article,\n",
    "    enable_queue=True,\n",
    "    examples=examples\n",
    "    ).launch(debug=True)"
   ]
  },
  {
   "cell_type": "code",
   "execution_count": null,
   "metadata": {},
   "outputs": [],
   "source": []
  }
 ],
 "metadata": {
  "interpreter": {
   "hash": "5ae4c1eaa4943cf31296f6b76dced02f5a6b8c0bb272a2be0dab87fac76d522d"
  },
  "kernelspec": {
   "display_name": "Python 3.9.12 ('clip_prefix_caption')",
   "language": "python",
   "name": "python3"
  },
  "language_info": {
   "codemirror_mode": {
    "name": "ipython",
    "version": 3
   },
   "file_extension": ".py",
   "mimetype": "text/x-python",
   "name": "python",
   "nbconvert_exporter": "python",
   "pygments_lexer": "ipython3",
   "version": "3.9.12"
  },
  "orig_nbformat": 4
 },
 "nbformat": 4,
 "nbformat_minor": 2
}
